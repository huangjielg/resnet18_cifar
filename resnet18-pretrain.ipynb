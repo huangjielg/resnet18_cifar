{
 "cells": [
  {
   "cell_type": "code",
   "execution_count": 1,
   "id": "921df29e",
   "metadata": {
    "execution": {
     "iopub.execute_input": "2022-01-22T07:34:54.297226Z",
     "iopub.status.busy": "2022-01-22T07:34:54.291801Z",
     "iopub.status.idle": "2022-01-22T07:34:54.317654Z",
     "shell.execute_reply": "2022-01-22T07:34:54.318872Z",
     "shell.execute_reply.started": "2022-01-22T07:28:29.573626Z"
    },
    "papermill": {
     "duration": 0.080206,
     "end_time": "2022-01-22T07:34:54.319382",
     "exception": false,
     "start_time": "2022-01-22T07:34:54.239176",
     "status": "completed"
    },
    "tags": []
   },
   "outputs": [],
   "source": [
    "BATCH_SIZE=64"
   ]
  },
  {
   "cell_type": "code",
   "execution_count": 2,
   "id": "72f289c1",
   "metadata": {
    "execution": {
     "iopub.execute_input": "2022-01-22T07:34:56.492312Z",
     "iopub.status.busy": "2022-01-22T07:34:56.491387Z",
     "iopub.status.idle": "2022-01-22T07:34:56.869194Z",
     "shell.execute_reply": "2022-01-22T07:34:56.868573Z",
     "shell.execute_reply.started": "2022-01-22T07:28:31.679142Z"
    },
    "papermill": {
     "duration": 0.39834,
     "end_time": "2022-01-22T07:34:56.869377",
     "exception": false,
     "start_time": "2022-01-22T07:34:56.471037",
     "status": "completed"
    },
    "tags": []
   },
   "outputs": [],
   "source": [
    "import torch\n",
    "import torchvision\n",
    "import matplotlib.pyplot as plt\n",
    "import torchvision.transforms as transforms\n",
    "from torch.utils.data import DataLoader\n",
    "from tqdm import tqdm\n",
    "import torch.nn as nn\n",
    "import torch.optim as optim\n",
    "import numpy as np\n",
    "import torch.nn.functional as F\n",
    "import torchvision.models"
   ]
  },
  {
   "cell_type": "code",
   "execution_count": 3,
   "id": "4028ccc5",
   "metadata": {
    "execution": {
     "iopub.execute_input": "2022-01-22T07:34:56.918541Z",
     "iopub.status.busy": "2022-01-22T07:34:56.917759Z",
     "iopub.status.idle": "2022-01-22T07:35:07.568027Z",
     "shell.execute_reply": "2022-01-22T07:35:07.568522Z",
     "shell.execute_reply.started": "2022-01-22T07:28:31.934054Z"
    },
    "papermill": {
     "duration": 10.683397,
     "end_time": "2022-01-22T07:35:07.568706",
     "exception": false,
     "start_time": "2022-01-22T07:34:56.885309",
     "status": "completed"
    },
    "tags": []
   },
   "outputs": [
    {
     "name": "stdout",
     "output_type": "stream",
     "text": [
      "Files already downloaded and verified\n",
      "Files already downloaded and verified\n",
      "torch.Size([3, 32, 32])\n"
     ]
    }
   ],
   "source": [
    "IMG_SIZE=32\n",
    "transform_normal = transforms.Compose([\n",
    "    transforms.Resize(IMG_SIZE),\n",
    "    transforms.ToTensor(),\n",
    "    transforms.Normalize((0.5, 0.5, 0.5), (0.5, 0.5, 0.5))\n",
    "])\n",
    "# 数据增强\n",
    "transform_aug = transforms.Compose([\n",
    "    transforms.Resize(IMG_SIZE),\n",
    "    transforms.RandomCrop(IMG_SIZE,IMG_SIZE//8),\n",
    "    transforms.RandomHorizontalFlip(),\n",
    "   \n",
    "    transforms.ToTensor(),\n",
    "    transforms.Normalize((0.5, 0.5, 0.5), (0.5, 0.5, 0.5)),\n",
    "    transforms.RandomErasing()\n",
    "\n",
    "])\n",
    "\n",
    "training_data = torchvision.datasets.CIFAR10(root = '../../data',train =True,download=True,transform=transform_aug)\n",
    "test_data  = torchvision.datasets.CIFAR10(root = '../../data',train=False,download=True,transform=transform_normal)\n",
    "\n",
    "\n",
    "train_dataloader = DataLoader(training_data, batch_size=BATCH_SIZE, shuffle=True,drop_last=True,pin_memory=True)\n",
    "test_dataloader = DataLoader(test_data, batch_size=BATCH_SIZE*2, shuffle=False,pin_memory=True)\n",
    "\n",
    "print(training_data[0][0].shape)"
   ]
  },
  {
   "cell_type": "code",
   "execution_count": null,
   "id": "d376512b",
   "metadata": {},
   "outputs": [],
   "source": []
  },
  {
   "cell_type": "code",
   "execution_count": 4,
   "id": "d5e31898",
   "metadata": {
    "execution": {
     "iopub.execute_input": "2022-01-22T07:35:07.689563Z",
     "iopub.status.busy": "2022-01-22T07:35:07.638995Z",
     "iopub.status.idle": "2022-01-22T07:35:07.692964Z",
     "shell.execute_reply": "2022-01-22T07:35:07.692413Z",
     "shell.execute_reply.started": "2022-01-22T07:28:39.172395Z"
    },
    "papermill": {
     "duration": 0.074135,
     "end_time": "2022-01-22T07:35:07.693227",
     "exception": false,
     "start_time": "2022-01-22T07:35:07.619092",
     "status": "completed"
    },
    "tags": []
   },
   "outputs": [],
   "source": [
    "device='cuda' if torch.cuda.is_available() else 'cpu'\n",
    "device=torch.device(device)"
   ]
  },
  {
   "cell_type": "code",
   "execution_count": 5,
   "id": "d4f3f4d3",
   "metadata": {
    "execution": {
     "iopub.execute_input": "2022-01-22T07:35:07.735331Z",
     "iopub.status.busy": "2022-01-22T07:35:07.734467Z",
     "iopub.status.idle": "2022-01-22T07:35:07.915703Z",
     "shell.execute_reply": "2022-01-22T07:35:07.915092Z",
     "shell.execute_reply.started": "2022-01-22T07:28:39.217447Z"
    },
    "papermill": {
     "duration": 0.204278,
     "end_time": "2022-01-22T07:35:07.915883",
     "exception": false,
     "start_time": "2022-01-22T07:35:07.711605",
     "status": "completed"
    },
    "tags": []
   },
   "outputs": [],
   "source": [
    "model=torchvision.models.resnet18(pretrained=True)\n",
    "model.fc = nn.Linear(model.fc.in_features, 10)\n",
    "if IMG_SIZE<=64:\n",
    "    model.conv1 = nn.Conv2d(model.conv1.in_channels,model.conv1.out_channels,3,1,1)\n",
    "    model.maxpool = nn.Identity()"
   ]
  },
  {
   "cell_type": "code",
   "execution_count": 6,
   "id": "cd4cf2bf",
   "metadata": {
    "execution": {
     "iopub.execute_input": "2022-01-22T07:35:07.962710Z",
     "iopub.status.busy": "2022-01-22T07:35:07.961572Z",
     "iopub.status.idle": "2022-01-22T07:35:07.964806Z",
     "shell.execute_reply": "2022-01-22T07:35:07.964266Z",
     "shell.execute_reply.started": "2022-01-22T07:28:39.393363Z"
    },
    "papermill": {
     "duration": 0.031546,
     "end_time": "2022-01-22T07:35:07.964967",
     "exception": false,
     "start_time": "2022-01-22T07:35:07.933421",
     "status": "completed"
    },
    "tags": []
   },
   "outputs": [],
   "source": [
    "def check_acc(model,epoch,epochs):\n",
    "    _tqdm=tqdm(test_dataloader,total=len(test_dataloader))\n",
    "    model.eval()\n",
    "    with torch.no_grad():\n",
    "        total_num=0\n",
    "        right_num=0\n",
    "        model=model.train()\n",
    "        for img,label in _tqdm:\n",
    "            img=img.to(device)\n",
    "            label=label.to(device)\n",
    "            total_num=total_num+img.shape[0]\n",
    "            predicted_outputs=model(img)\n",
    "            right_num         +=   torch.sum(torch.argmax(predicted_outputs,dim=-1)==label)\n",
    "            acc=right_num/total_num\n",
    "            _tqdm.set_description_str(f'test {epoch}/{epochs} test acc:{acc*100:.1f}%')\n",
    "    return acc\n",
    "    "
   ]
  },
  {
   "cell_type": "code",
   "execution_count": 7,
   "id": "230c2416",
   "metadata": {
    "execution": {
     "iopub.execute_input": "2022-01-22T07:35:08.018998Z",
     "iopub.status.busy": "2022-01-22T07:35:08.016778Z",
     "iopub.status.idle": "2022-01-22T07:35:08.019753Z",
     "shell.execute_reply": "2022-01-22T07:35:08.020317Z",
     "shell.execute_reply.started": "2022-01-22T07:34:10.677101Z"
    },
    "papermill": {
     "duration": 0.038223,
     "end_time": "2022-01-22T07:35:08.020479",
     "exception": false,
     "start_time": "2022-01-22T07:35:07.982256",
     "status": "completed"
    },
    "tags": []
   },
   "outputs": [],
   "source": [
    "\n",
    "def train(model,epochs,loss_fn,optimizer,scheduler):\n",
    "    #loss_fn = nn.CrossEntropyLoss(label_smoothing=0.1)\n",
    " \n",
    "    #optimizer = optim.SGD(model.parameters(), lr=0.01, momentum=0.9, nesterov=True)\n",
    "    results=[]\n",
    "    best_acc=0\n",
    "    avg_loss=0\n",
    "    amp_enable=False\n",
    "    scaler = torch.cuda.amp.GradScaler(enabled=amp_enable)\n",
    "    for epoch in range(epochs):\n",
    "        _tqdm=tqdm(train_dataloader,total=len(train_dataloader))\n",
    "        total_num=0\n",
    "        right_num=0\n",
    "        loss_total=0\n",
    "        model.train()\n",
    "        for img,label in _tqdm:\n",
    "            img=img.to(device)\n",
    "            label=label.to(device)\n",
    "            total_num=total_num+img.shape[0]\n",
    "            \n",
    "            \n",
    "            optimizer.zero_grad()\n",
    "            with torch.cuda.amp.autocast(enabled=amp_enable):\n",
    "                predicted_outputs=model(img)\n",
    "                train_loss = loss_fn(predicted_outputs, label)   # calculate loss for the predicted output  \n",
    "                #loss_gap = F.binary_cross_entropy(torch.sigmoid(predicted_outputs_add[:,-1]),cosine_similarity_between_pred)\n",
    "            \n",
    "\n",
    "            \n",
    "            #train_loss.backward()   # backpropagate the loss \n",
    "            scaler.scale(train_loss).backward()\n",
    "            #optimizer.step()        # adjust parameters based on the calculated gradients\n",
    "            scaler.step(optimizer)\n",
    "            scaler.update()\n",
    "            loss_total+=train_loss.item()\n",
    "\n",
    "            right_num         +=  torch.sum(torch.argmax(predicted_outputs,dim=-1)==label)\n",
    "            \n",
    "            acc=right_num/total_num\n",
    "            _tqdm.set_description_str(f'train {epoch}/{epochs} loss:{train_loss.item():.5f}   acc:{acc*100:.1f}% loss_last:{avg_loss:.5f}')\n",
    "        train_acc = right_num/total_num\n",
    "        test_acc=check_acc(model,epoch,epochs)\n",
    "        avg_loss=loss_total/len(train_dataloader)\n",
    "        results.append({\n",
    "            'train_acc':train_acc.item(),\n",
    "            'test_acc':test_acc.item(),\n",
    "        })\n",
    "        if best_acc < test_acc:\n",
    "            best_acc=test_acc\n",
    "        \n",
    "        scheduler.step()\n",
    "    return results\n",
    "            \n",
    "      \n",
    "        "
   ]
  },
  {
   "cell_type": "code",
   "execution_count": null,
   "id": "31575c80",
   "metadata": {
    "papermill": {
     "duration": 0.017135,
     "end_time": "2022-01-22T07:35:08.055061",
     "exception": false,
     "start_time": "2022-01-22T07:35:08.037926",
     "status": "completed"
    },
    "tags": []
   },
   "outputs": [],
   "source": []
  },
  {
   "cell_type": "code",
   "execution_count": 8,
   "id": "0cd6860c",
   "metadata": {
    "execution": {
     "iopub.execute_input": "2022-01-22T07:35:08.094600Z",
     "iopub.status.busy": "2022-01-22T07:35:08.093595Z",
     "iopub.status.idle": "2022-01-22T07:35:08.096766Z",
     "shell.execute_reply": "2022-01-22T07:35:08.096234Z",
     "shell.execute_reply.started": "2022-01-22T07:34:10.693693Z"
    },
    "papermill": {
     "duration": 0.025102,
     "end_time": "2022-01-22T07:35:08.096890",
     "exception": false,
     "start_time": "2022-01-22T07:35:08.071788",
     "status": "completed"
    },
    "tags": []
   },
   "outputs": [],
   "source": [
    "\n",
    "def plot_result(result,title=None):\n",
    "    # result: \n",
    "    # list of dictionary \n",
    "    resulta=np.array([list(item.values()) for item in result])\n",
    "    plt.plot(resulta)\n",
    "    plt.legend(result[0].keys())\n",
    "    plt.grid()\n",
    "    if title :\n",
    "        plt.title(title)\n",
    "    plt.savefig(title+'.jpeg')"
   ]
  },
  {
   "cell_type": "code",
   "execution_count": null,
   "id": "6d2ea50e",
   "metadata": {
    "papermill": {
     "duration": 0.017201,
     "end_time": "2022-01-22T07:35:08.130474",
     "exception": false,
     "start_time": "2022-01-22T07:35:08.113273",
     "status": "completed"
    },
    "tags": []
   },
   "outputs": [],
   "source": []
  },
  {
   "cell_type": "code",
   "execution_count": 9,
   "id": "3ba6bc98",
   "metadata": {
    "execution": {
     "iopub.execute_input": "2022-01-22T07:35:08.170383Z",
     "iopub.status.busy": "2022-01-22T07:35:08.169520Z",
     "iopub.status.idle": "2022-01-22T07:35:08.173069Z",
     "shell.execute_reply": "2022-01-22T07:35:08.172528Z",
     "shell.execute_reply.started": "2022-01-22T07:34:11.723837Z"
    },
    "papermill": {
     "duration": 0.02595,
     "end_time": "2022-01-22T07:35:08.173219",
     "exception": false,
     "start_time": "2022-01-22T07:35:08.147269",
     "status": "completed"
    },
    "tags": []
   },
   "outputs": [],
   "source": [
    "def train_and_plot(model,lr=0.1,max_epochs=200):\n",
    "\n",
    "    model=model.to(device)\n",
    "    loss_fn = nn.CrossEntropyLoss()\n",
    "    #optimizer = optim.Adam(model.parameters(), lr=lr, weight_decay=0.001)\n",
    "    optimizer = optim.SGD(model.parameters(), lr=lr,\n",
    "                      momentum=0.9, weight_decay=5e-4)\n",
    "    \n",
    "    #scheduler = torch.optim.lr_scheduler.CosineAnnealingLR(optimizer, T_max=max_epochs)    \n",
    "    scheduler = torch.optim.lr_scheduler.StepLR(optimizer, step_size=3, gamma=0.3)\n",
    "    result=train(model,max_epochs,loss_fn,optimizer,scheduler)\n",
    "    name=f'resnet_{model.__class__.__name__}_{len(model.state_dict())}_{max_epochs}'\n",
    "    plot_result(result,name)\n",
    "    torch.save(model.state_dict(),name+'.pt')\n",
    "    "
   ]
  },
  {
   "cell_type": "code",
   "execution_count": 10,
   "id": "606b4a4a",
   "metadata": {
    "execution": {
     "iopub.execute_input": "2022-01-22T07:35:08.212037Z",
     "iopub.status.busy": "2022-01-22T07:35:08.211411Z",
     "iopub.status.idle": "2022-01-22T11:17:42.756590Z",
     "shell.execute_reply": "2022-01-22T11:17:42.757259Z",
     "shell.execute_reply.started": "2022-01-22T07:34:11.732711Z"
    },
    "papermill": {
     "duration": 13354.567815,
     "end_time": "2022-01-22T11:17:42.757438",
     "exception": false,
     "start_time": "2022-01-22T07:35:08.189623",
     "status": "completed"
    },
    "tags": []
   },
   "outputs": [
    {
     "name": "stderr",
     "output_type": "stream",
     "text": [
      "train 0/10 loss:0.77932   acc:64.9% loss_last:0.00000: 100%|██████████| 781/781 [00:54<00:00, 14.27it/s]\n",
      "test 0/10 test acc:82.8%: 100%|██████████| 79/79 [00:03<00:00, 23.28it/s]\n",
      "train 1/10 loss:0.42036   acc:80.4% loss_last:1.00604: 100%|██████████| 781/781 [00:52<00:00, 14.95it/s]\n",
      "test 1/10 test acc:86.8%: 100%|██████████| 79/79 [00:03<00:00, 22.15it/s]\n",
      "train 2/10 loss:0.24067   acc:84.3% loss_last:0.56998: 100%|██████████| 781/781 [00:51<00:00, 15.03it/s]\n",
      "test 2/10 test acc:88.3%: 100%|██████████| 79/79 [00:03<00:00, 22.89it/s]\n",
      "train 3/10 loss:0.30568   acc:88.8% loss_last:0.45104: 100%|██████████| 781/781 [00:52<00:00, 14.94it/s]\n",
      "test 3/10 test acc:91.2%: 100%|██████████| 79/79 [00:03<00:00, 22.66it/s]\n",
      "train 4/10 loss:0.44049   acc:90.1% loss_last:0.32211: 100%|██████████| 781/781 [00:53<00:00, 14.62it/s]\n",
      "test 4/10 test acc:91.6%: 100%|██████████| 79/79 [00:03<00:00, 22.46it/s]\n",
      "train 5/10 loss:0.48583   acc:90.9% loss_last:0.28356: 100%|██████████| 781/781 [00:53<00:00, 14.66it/s]\n",
      "test 5/10 test acc:91.6%: 100%|██████████| 79/79 [00:03<00:00, 22.51it/s]\n",
      "train 6/10 loss:0.25593   acc:91.9% loss_last:0.26111: 100%|██████████| 781/781 [00:53<00:00, 14.67it/s]\n",
      "test 6/10 test acc:92.1%: 100%|██████████| 79/79 [00:03<00:00, 23.21it/s]\n",
      "train 7/10 loss:0.29233   acc:91.9% loss_last:0.23396: 100%|██████████| 781/781 [00:52<00:00, 15.01it/s]\n",
      "test 7/10 test acc:92.3%: 100%|██████████| 79/79 [00:03<00:00, 23.42it/s]\n",
      "train 8/10 loss:0.12855   acc:92.6% loss_last:0.22739: 100%|██████████| 781/781 [00:52<00:00, 14.82it/s]\n",
      "test 8/10 test acc:92.3%: 100%|██████████| 79/79 [00:03<00:00, 23.30it/s]\n",
      "train 9/10 loss:0.14014   acc:92.8% loss_last:0.21435: 100%|██████████| 781/781 [00:51<00:00, 15.15it/s]\n",
      "test 9/10 test acc:92.5%: 100%|██████████| 79/79 [00:03<00:00, 22.35it/s]\n"
     ]
    },
    {
     "data": {
      "image/png": "[encoded data removed]",
      "text/plain": [
       "<Figure size 432x288 with 1 Axes>"
      ]
     },
     "metadata": {
      "needs_background": "light"
     },
     "output_type": "display_data"
    }
   ],
   "source": [
    "train_and_plot(model,lr=5e-3,max_epochs=10)"
   ]
  },
  {
   "cell_type": "code",
   "execution_count": null,
   "id": "51d4875c",
   "metadata": {},
   "outputs": [],
   "source": []
  }
 ],
 "metadata": {
  "kernelspec": {
   "display_name": "Python 3",
   "language": "python",
   "name": "python3"
  },
  "language_info": {
   "codemirror_mode": {
    "name": "ipython",
    "version": 3
   },
   "file_extension": ".py",
   "mimetype": "text/x-python",
   "name": "python",
   "nbconvert_exporter": "python",
   "pygments_lexer": "ipython3",
   "version": "3.8.10"
  },
  "papermill": {
   "default_parameters": {},
   "duration": 13457.949559,
   "end_time": "2022-01-22T11:19:01.991967",
   "environment_variables": {},
   "exception": null,
   "input_path": "__notebook__.ipynb",
   "output_path": "__notebook__.ipynb",
   "parameters": {},
   "start_time": "2022-01-22T07:34:44.042408",
   "version": "2.3.3"
  },
  "widgets": {
   "application/vnd.jupyter.widget-state+json": {
    "state": {
     "0882845bbf844633b60bff7df19b0f06": {
      "model_module": "@jupyter-widgets/base",
      "model_module_version": "1.2.0",
      "model_name": "LayoutModel",
      "state": {
       "_model_module": "@jupyter-widgets/base",
       "_model_module_version": "1.2.0",
       "_model_name": "LayoutModel",
       "_view_count": null,
       "_view_module": "@jupyter-widgets/base",
       "_view_module_version": "1.2.0",
       "_view_name": "LayoutView",
       "align_content": null,
       "align_items": null,
       "align_self": null,
       "border": null,
       "bottom": null,
       "display": null,
       "flex": null,
       "flex_flow": null,
       "grid_area": null,
       "grid_auto_columns": null,
       "grid_auto_flow": null,
       "grid_auto_rows": null,
       "grid_column": null,
       "grid_gap": null,
       "grid_row": null,
       "grid_template_areas": null,
       "grid_template_columns": null,
       "grid_template_rows": null,
       "height": null,
       "justify_content": null,
       "justify_items": null,
       "left": null,
       "margin": null,
       "max_height": null,
       "max_width": null,
       "min_height": null,
       "min_width": null,
       "object_fit": null,
       "object_position": null,
       "order": null,
       "overflow": null,
       "overflow_x": null,
       "overflow_y": null,
       "padding": null,
       "right": null,
       "top": null,
       "visibility": null,
       "width": null
      }
     },
     "2e96282602554577835569df3f1d5803": {
      "model_module": "@jupyter-widgets/controls",
      "model_module_version": "1.5.0",
      "model_name": "HTMLModel",
      "state": {
       "_dom_classes": [],
       "_model_module": "@jupyter-widgets/controls",
       "_model_module_version": "1.5.0",
       "_model_name": "HTMLModel",
       "_view_count": null,
       "_view_module": "@jupyter-widgets/controls",
       "_view_module_version": "1.5.0",
       "_view_name": "HTMLView",
       "description": "",
       "description_tooltip": null,
       "layout": "IPY_MODEL_0882845bbf844633b60bff7df19b0f06",
       "placeholder": "​",
       "style": "IPY_MODEL_d68d6c9a000940ad83e6e4b1c4cf1b89",
       "value": " 170499072/? [00:05&lt;00:00, 32892229.91it/s]"
      }
     },
     "31a045f019d840749fc5c9a5afa05a40": {
      "model_module": "@jupyter-widgets/base",
      "model_module_version": "1.2.0",
      "model_name": "LayoutModel",
      "state": {
       "_model_module": "@jupyter-widgets/base",
       "_model_module_version": "1.2.0",
       "_model_name": "LayoutModel",
       "_view_count": null,
       "_view_module": "@jupyter-widgets/base",
       "_view_module_version": "1.2.0",
       "_view_name": "LayoutView",
       "align_content": null,
       "align_items": null,
       "align_self": null,
       "border": null,
       "bottom": null,
       "display": null,
       "flex": null,
       "flex_flow": null,
       "grid_area": null,
       "grid_auto_columns": null,
       "grid_auto_flow": null,
       "grid_auto_rows": null,
       "grid_column": null,
       "grid_gap": null,
       "grid_row": null,
       "grid_template_areas": null,
       "grid_template_columns": null,
       "grid_template_rows": null,
       "height": null,
       "justify_content": null,
       "justify_items": null,
       "left": null,
       "margin": null,
       "max_height": null,
       "max_width": null,
       "min_height": null,
       "min_width": null,
       "object_fit": null,
       "object_position": null,
       "order": null,
       "overflow": null,
       "overflow_x": null,
       "overflow_y": null,
       "padding": null,
       "right": null,
       "top": null,
       "visibility": null,
       "width": null
      }
     },
     "375c92067a144704906f0c894aa3418a": {
      "model_module": "@jupyter-widgets/controls",
      "model_module_version": "1.5.0",
      "model_name": "DescriptionStyleModel",
      "state": {
       "_model_module": "@jupyter-widgets/controls",
       "_model_module_version": "1.5.0",
       "_model_name": "DescriptionStyleModel",
       "_view_count": null,
       "_view_module": "@jupyter-widgets/base",
       "_view_module_version": "1.2.0",
       "_view_name": "StyleView",
       "description_width": ""
      }
     },
     "544c8fd4b93e4f6482894b909cf0a65b": {
      "model_module": "@jupyter-widgets/controls",
      "model_module_version": "1.5.0",
      "model_name": "ProgressStyleModel",
      "state": {
       "_model_module": "@jupyter-widgets/controls",
       "_model_module_version": "1.5.0",
       "_model_name": "ProgressStyleModel",
       "_view_count": null,
       "_view_module": "@jupyter-widgets/base",
       "_view_module_version": "1.2.0",
       "_view_name": "StyleView",
       "bar_color": null,
       "description_width": ""
      }
     },
     "64752afce5a449afa96b6f5b70707987": {
      "model_module": "@jupyter-widgets/controls",
      "model_module_version": "1.5.0",
      "model_name": "HTMLModel",
      "state": {
       "_dom_classes": [],
       "_model_module": "@jupyter-widgets/controls",
       "_model_module_version": "1.5.0",
       "_model_name": "HTMLModel",
       "_view_count": null,
       "_view_module": "@jupyter-widgets/controls",
       "_view_module_version": "1.5.0",
       "_view_name": "HTMLView",
       "description": "",
       "description_tooltip": null,
       "layout": "IPY_MODEL_935c57a1cabc4a75abc558f7b331b6be",
       "placeholder": "​",
       "style": "IPY_MODEL_375c92067a144704906f0c894aa3418a",
       "value": ""
      }
     },
     "92abdf80bd9d48eaa88cf99daff498c6": {
      "model_module": "@jupyter-widgets/controls",
      "model_module_version": "1.5.0",
      "model_name": "HBoxModel",
      "state": {
       "_dom_classes": [],
       "_model_module": "@jupyter-widgets/controls",
       "_model_module_version": "1.5.0",
       "_model_name": "HBoxModel",
       "_view_count": null,
       "_view_module": "@jupyter-widgets/controls",
       "_view_module_version": "1.5.0",
       "_view_name": "HBoxView",
       "box_style": "",
       "children": [
        "IPY_MODEL_64752afce5a449afa96b6f5b70707987",
        "IPY_MODEL_df15a403ce79412f88b59fb199941915",
        "IPY_MODEL_2e96282602554577835569df3f1d5803"
       ],
       "layout": "IPY_MODEL_31a045f019d840749fc5c9a5afa05a40"
      }
     },
     "935c57a1cabc4a75abc558f7b331b6be": {
      "model_module": "@jupyter-widgets/base",
      "model_module_version": "1.2.0",
      "model_name": "LayoutModel",
      "state": {
       "_model_module": "@jupyter-widgets/base",
       "_model_module_version": "1.2.0",
       "_model_name": "LayoutModel",
       "_view_count": null,
       "_view_module": "@jupyter-widgets/base",
       "_view_module_version": "1.2.0",
       "_view_name": "LayoutView",
       "align_content": null,
       "align_items": null,
       "align_self": null,
       "border": null,
       "bottom": null,
       "display": null,
       "flex": null,
       "flex_flow": null,
       "grid_area": null,
       "grid_auto_columns": null,
       "grid_auto_flow": null,
       "grid_auto_rows": null,
       "grid_column": null,
       "grid_gap": null,
       "grid_row": null,
       "grid_template_areas": null,
       "grid_template_columns": null,
       "grid_template_rows": null,
       "height": null,
       "justify_content": null,
       "justify_items": null,
       "left": null,
       "margin": null,
       "max_height": null,
       "max_width": null,
       "min_height": null,
       "min_width": null,
       "object_fit": null,
       "object_position": null,
       "order": null,
       "overflow": null,
       "overflow_x": null,
       "overflow_y": null,
       "padding": null,
       "right": null,
       "top": null,
       "visibility": null,
       "width": null
      }
     },
     "b4036659eedf44119cbd5d0d74db7a80": {
      "model_module": "@jupyter-widgets/base",
      "model_module_version": "1.2.0",
      "model_name": "LayoutModel",
      "state": {
       "_model_module": "@jupyter-widgets/base",
       "_model_module_version": "1.2.0",
       "_model_name": "LayoutModel",
       "_view_count": null,
       "_view_module": "@jupyter-widgets/base",
       "_view_module_version": "1.2.0",
       "_view_name": "LayoutView",
       "align_content": null,
       "align_items": null,
       "align_self": null,
       "border": null,
       "bottom": null,
       "display": null,
       "flex": null,
       "flex_flow": null,
       "grid_area": null,
       "grid_auto_columns": null,
       "grid_auto_flow": null,
       "grid_auto_rows": null,
       "grid_column": null,
       "grid_gap": null,
       "grid_row": null,
       "grid_template_areas": null,
       "grid_template_columns": null,
       "grid_template_rows": null,
       "height": null,
       "justify_content": null,
       "justify_items": null,
       "left": null,
       "margin": null,
       "max_height": null,
       "max_width": null,
       "min_height": null,
       "min_width": null,
       "object_fit": null,
       "object_position": null,
       "order": null,
       "overflow": null,
       "overflow_x": null,
       "overflow_y": null,
       "padding": null,
       "right": null,
       "top": null,
       "visibility": null,
       "width": null
      }
     },
     "d68d6c9a000940ad83e6e4b1c4cf1b89": {
      "model_module": "@jupyter-widgets/controls",
      "model_module_version": "1.5.0",
      "model_name": "DescriptionStyleModel",
      "state": {
       "_model_module": "@jupyter-widgets/controls",
       "_model_module_version": "1.5.0",
       "_model_name": "DescriptionStyleModel",
       "_view_count": null,
       "_view_module": "@jupyter-widgets/base",
       "_view_module_version": "1.2.0",
       "_view_name": "StyleView",
       "description_width": ""
      }
     },
     "df15a403ce79412f88b59fb199941915": {
      "model_module": "@jupyter-widgets/controls",
      "model_module_version": "1.5.0",
      "model_name": "FloatProgressModel",
      "state": {
       "_dom_classes": [],
       "_model_module": "@jupyter-widgets/controls",
       "_model_module_version": "1.5.0",
       "_model_name": "FloatProgressModel",
       "_view_count": null,
       "_view_module": "@jupyter-widgets/controls",
       "_view_module_version": "1.5.0",
       "_view_name": "ProgressView",
       "bar_style": "success",
       "description": "",
       "description_tooltip": null,
       "layout": "IPY_MODEL_b4036659eedf44119cbd5d0d74db7a80",
       "max": 170498071,
       "min": 0,
       "orientation": "horizontal",
       "style": "IPY_MODEL_544c8fd4b93e4f6482894b909cf0a65b",
       "value": 170498071
      }
     }
    },
    "version_major": 2,
    "version_minor": 0
   }
  }
 },
 "nbformat": 4,
 "nbformat_minor": 5
}
