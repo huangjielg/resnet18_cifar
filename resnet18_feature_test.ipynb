{
 "cells": [
  {
   "cell_type": "code",
   "execution_count": 1,
   "metadata": {},
   "outputs": [],
   "source": [
    "BATCH_SIZE=64"
   ]
  },
  {
   "cell_type": "code",
   "execution_count": 2,
   "metadata": {},
   "outputs": [],
   "source": [
    "import torch\n",
    "import torchvision\n",
    "import matplotlib.pyplot as plt\n",
    "import torchvision.transforms as transforms\n",
    "from torch.utils.data import DataLoader\n",
    "from tqdm import tqdm\n",
    "import torch.nn as nn\n",
    "import torch.optim as optim\n",
    "import numpy as np\n",
    "import torch.nn.functional as F\n",
    "import torchvision.models\n",
    "import os"
   ]
  },
  {
   "cell_type": "code",
   "execution_count": 3,
   "metadata": {},
   "outputs": [
    {
     "name": "stdout",
     "output_type": "stream",
     "text": [
      "Files already downloaded and verified\n",
      "Files already downloaded and verified\n",
      "torch.Size([3, 32, 32])\n"
     ]
    }
   ],
   "source": [
    "IMG_SIZE=32\n",
    "transform_normal = transforms.Compose([\n",
    "    transforms.Resize(IMG_SIZE),\n",
    "    transforms.ToTensor(),\n",
    "    transforms.Normalize((0.5, 0.5, 0.5), (0.5, 0.5, 0.5))\n",
    "])\n",
    "# 数据增强\n",
    "transform_aug = transforms.Compose([\n",
    "    transforms.Resize(IMG_SIZE),\n",
    "    transforms.RandomCrop(IMG_SIZE,IMG_SIZE//8),\n",
    "    transforms.RandomHorizontalFlip(),\n",
    "   \n",
    "    transforms.ToTensor(),\n",
    "    transforms.Normalize((0.5, 0.5, 0.5), (0.5, 0.5, 0.5)),\n",
    "    transforms.RandomErasing()\n",
    "\n",
    "])\n",
    "\n",
    "training_data = torchvision.datasets.CIFAR100(root = '../../data',train =True,download=True,transform=transform_aug)\n",
    "test_data  = torchvision.datasets.CIFAR100(root = '../../data',train=False,download=True,transform=transform_normal)\n",
    "\n",
    "\n",
    "train_dataloader = DataLoader(training_data, batch_size=BATCH_SIZE, shuffle=True,drop_last=True,pin_memory=True)\n",
    "\n",
    "\n",
    "\n",
    "test_dataloader = DataLoader(test_data, batch_size=BATCH_SIZE*2, shuffle=False,pin_memory=True)\n",
    "\n",
    "print(training_data[0][0].shape)"
   ]
  },
  {
   "cell_type": "code",
   "execution_count": 4,
   "metadata": {},
   "outputs": [],
   "source": [
    "device='cuda' if torch.cuda.is_available() else 'cpu'\n",
    "device=torch.device(device)"
   ]
  },
  {
   "cell_type": "code",
   "execution_count": 5,
   "metadata": {},
   "outputs": [],
   "source": [
    "model= torch.load('resnet18_cifar100_base.pt')\n",
    "_=model.to(device)\n"
   ]
  },
  {
   "cell_type": "code",
   "execution_count": 6,
   "metadata": {},
   "outputs": [],
   "source": [
    "def check_acc(model,epoch=0,epochs=1):\n",
    "    _tqdm=tqdm(test_dataloader,total=len(test_dataloader))\n",
    "    model.eval()\n",
    "    with torch.no_grad():\n",
    "        total_num=0\n",
    "        right_num=0\n",
    "        model=model.eval()\n",
    "        for img,label in _tqdm:\n",
    "            img=img.to(device)\n",
    "            label=label.to(device)\n",
    "            total_num=total_num+img.shape[0]\n",
    "            predicted_outputs=model(img)\n",
    "            right_num         +=   torch.sum(torch.argmax(predicted_outputs,dim=-1)==label)\n",
    "            acc=right_num/total_num\n",
    "            _tqdm.set_description_str(f'test {epoch}/{epochs} test acc:{acc*100:.1f}%')\n",
    "    return acc\n",
    "    "
   ]
  },
  {
   "cell_type": "code",
   "execution_count": 7,
   "metadata": {},
   "outputs": [
    {
     "name": "stderr",
     "output_type": "stream",
     "text": [
      "test 0/1 test acc:77.9%: 100%|██████████| 79/79 [00:06<00:00, 12.52it/s]\n"
     ]
    },
    {
     "data": {
      "text/plain": [
       "tensor(0.7794, device='cuda:0')"
      ]
     },
     "execution_count": 7,
     "metadata": {},
     "output_type": "execute_result"
    }
   ],
   "source": [
    "check_acc(model)"
   ]
  },
  {
   "cell_type": "code",
   "execution_count": 8,
   "metadata": {},
   "outputs": [],
   "source": [
    "#把一个模型的所有梯度都去掉\n",
    "def freeze_model(model):\n",
    "    for p in model.parameters():\n",
    "         p.requires_grad = False\n",
    "    return model\n",
    "\n",
    "#输出一个层阶段的feature    \n",
    "def get_feature(model, x):\n",
    "    # See note [TorchScript super()]\n",
    "    x = model.conv1(x)\n",
    "    x = model.bn1(x)\n",
    "    x = model.relu(x)\n",
    "    x = model.maxpool(x)\n",
    "\n",
    "    x = model.layer1(x)\n",
    "    x = model.layer2(x)\n",
    "    x = model.layer3(x)\n",
    "    x = model.layer4(x)\n",
    "    \n",
    "    #x = model.avgpool(x)\n",
    "    #x = torch.flatten(x, 1)\n",
    "    #x = model.fc(x)\n",
    "\n",
    "    return x\n",
    "#使用feature计算输出\n",
    "# 注意: \n",
    "# \n",
    "# 直接调用model.forward()等价于feature_forward(get_feature()) \n",
    "#\n",
    "def feature_forward(model,x) :\n",
    "    #x = model.layer4(x)\n",
    "\n",
    "    x = model.avgpool(x)\n",
    "    x = torch.flatten(x, 1)\n",
    "    x = model.fc(x)\n",
    "    return x "
   ]
  },
  {
   "cell_type": "code",
   "execution_count": 9,
   "metadata": {},
   "outputs": [],
   "source": [
    "\n",
    "\n",
    "def get_old_new_feature(model,dataloader,calc_new = True):\n",
    "    _tqdm=tqdm(dataloader,total=len(dataloader))\n",
    "    loss_fn = nn.CrossEntropyLoss()\n",
    "        #optimizer = optim.Adam(model.parameters(), lr=lr, weight_decay=0.001)\n",
    "    feature_list = list()\n",
    "    feature_new_list  = list()\n",
    "    for img,label in _tqdm:\n",
    "        img=img.to(device)\n",
    "        label=label.to(device)\n",
    "        feature = get_feature(model,img)\n",
    "        feature_list.append(feature.cpu())\n",
    "\n",
    "        \n",
    "        if calc_new:\n",
    "            feature_new=feature.clone()\n",
    "            feature_new.requires_grad_(True)\n",
    "            optimizer = optim.SGD([feature_new], lr=1e0)\n",
    "            for _ in range(20):\n",
    "                optimizer.zero_grad()\n",
    "                predicted_outputs=feature_forward(model,feature_new)\n",
    "                train_loss = loss_fn(predicted_outputs, label)\n",
    "                train_loss.backward()\n",
    "                optimizer.step()\n",
    "                right_num         =   torch.sum(torch.argmax(predicted_outputs,dim=-1)==label)\n",
    "                #print(train_loss.item(),right_num)\n",
    "                if  right_num >= img.shape[0]*0.95 :\n",
    "                    break\n",
    "            feature_new_list.append(feature_new.requires_grad_(False).cpu())\n",
    "    features = torch.concat(feature_list)\n",
    "    if calc_new:\n",
    "        features_new = torch.concat(feature_new_list)        \n",
    "        return features,features_new\n",
    "    else:\n",
    "        return features"
   ]
  },
  {
   "cell_type": "code",
   "execution_count": 10,
   "metadata": {},
   "outputs": [
    {
     "name": "stderr",
     "output_type": "stream",
     "text": [
      "100%|██████████| 781/781 [00:43<00:00, 18.01it/s]\n",
      "100%|██████████| 79/79 [00:05<00:00, 14.84it/s]\n"
     ]
    }
   ],
   "source": [
    "model.eval()\n",
    "freeze_model(model)\n",
    "features_train,features_new_train=get_old_new_feature(model,train_dataloader)\n",
    "features_val,features_new_val=get_old_new_feature(model,test_dataloader)"
   ]
  },
  {
   "cell_type": "code",
   "execution_count": 11,
   "metadata": {},
   "outputs": [],
   "source": [
    "N_FEATURE=features_new_train.shape[1]"
   ]
  },
  {
   "cell_type": "code",
   "execution_count": 12,
   "metadata": {},
   "outputs": [
    {
     "data": {
      "text/plain": [
       "torch.Size([49984, 512, 4, 4])"
      ]
     },
     "execution_count": 12,
     "metadata": {},
     "output_type": "execute_result"
    }
   ],
   "source": [
    "features_new_train.shape"
   ]
  },
  {
   "cell_type": "code",
   "execution_count": 13,
   "metadata": {},
   "outputs": [],
   "source": [
    "\n",
    "s1=features_train.mean([2,3])\n",
    "features_train_m=s1\n",
    "\n",
    "#plt.figure(figsize=(40,40))\n",
    "#for i in range(256):\n",
    "#    ax=plt.subplot(16,16,i+1)\n",
    "#    ax.axis('off')\n",
    "#    plt.hist(s1[:,i].numpy())"
   ]
  },
  {
   "cell_type": "code",
   "execution_count": 14,
   "metadata": {},
   "outputs": [],
   "source": [
    "\n",
    "s2=features_val.mean([2,3])\n",
    "features_val_m=s2\n",
    "#plt.figure(figsize=(40,40))\n",
    "#for i in range(256):\n",
    "#    ax=plt.subplot(16,16,i+1)\n",
    "#    ax.axis('off')\n",
    "#    plt.hist(s2[:,i].numpy())"
   ]
  },
  {
   "cell_type": "code",
   "execution_count": 15,
   "metadata": {},
   "outputs": [],
   "source": [
    "features_new_train_m=features_new_train.mean([2,3])\n",
    "features_new_val_m=features_new_val.mean([2,3])"
   ]
  },
  {
   "cell_type": "code",
   "execution_count": 16,
   "metadata": {},
   "outputs": [],
   "source": [
    "#for i in range(256):\n",
    "#    plt.figure()\n",
    "#    t1,i1=features_train_m[:,i].sort()\n",
    "#    plt.hist(features_new_train_m[:,i][i1]-t1)\n",
    "#    plt.grid()\n",
    "#    break"
   ]
  },
  {
   "cell_type": "code",
   "execution_count": null,
   "metadata": {},
   "outputs": [],
   "source": []
  },
  {
   "cell_type": "code",
   "execution_count": 17,
   "metadata": {},
   "outputs": [],
   "source": [
    "def save_features_picture():\n",
    "    os.makedirs('features',exist_ok=True)\n",
    "    for i in tqdm(range(N_FEATURE)):\n",
    "        plt.figure()\n",
    "        t1,i1=features_train_m[:,i].sort()\n",
    "        tdiff=t1-features_new_train_m[i1,i]\n",
    "        mean = t1.mean()\n",
    "        std  = t1.std()\n",
    "        t1=(t1-mean)/std\n",
    "        tdiff /= std\n",
    "        plt.scatter(t1,tdiff,s=1)\n",
    "        plt.title(str(i))\n",
    "        plt.savefig(f'features/{i}.jpg')\n",
    "        plt.close()\n",
    "\n",
    "#save_features_picture()"
   ]
  },
  {
   "cell_type": "code",
   "execution_count": 18,
   "metadata": {},
   "outputs": [
    {
     "data": {
      "image/png": "[encoded data removed]",
      "text/plain": [
       "<Figure size 432x288 with 1 Axes>"
      ]
     },
     "metadata": {
      "needs_background": "light"
     },
     "output_type": "display_data"
    }
   ],
   "source": [
    "i=16\n",
    "t1,i1=features_train_m[:,i].sort()\n",
    "tdiff=t1-features_new_train_m[i1,i]\n",
    "t1=(t1-t1.mean())/t1.std()\n",
    "#plt.scatter(t1,tdiff,s=0.1)\n",
    "plt.plot(tdiff,'o',markersize=1)\n",
    "plt.grid()"
   ]
  },
  {
   "cell_type": "code",
   "execution_count": 19,
   "metadata": {},
   "outputs": [],
   "source": [
    "t1=t1[:499*100]\n",
    "tdiff=tdiff[:499*100]"
   ]
  },
  {
   "cell_type": "code",
   "execution_count": 20,
   "metadata": {},
   "outputs": [
    {
     "data": {
      "image/png": "[encoded data removed]",
      "text/plain": [
       "<Figure size 432x288 with 1 Axes>"
      ]
     },
     "metadata": {
      "needs_background": "light"
     },
     "output_type": "display_data"
    }
   ],
   "source": [
    "plt.plot(tdiff.view(10,-1).mean(-1),'bo')\n",
    "plt.grid()"
   ]
  },
  {
   "cell_type": "code",
   "execution_count": 21,
   "metadata": {},
   "outputs": [
    {
     "data": {
      "text/plain": [
       "tensor(3.3165e-06)"
      ]
     },
     "execution_count": 21,
     "metadata": {},
     "output_type": "execute_result"
    }
   ],
   "source": [
    "tdiff.mean()"
   ]
  },
  {
   "cell_type": "code",
   "execution_count": 22,
   "metadata": {},
   "outputs": [
    {
     "name": "stderr",
     "output_type": "stream",
     "text": [
      "100%|██████████| 512/512 [00:03<00:00, 165.64it/s]\n"
     ]
    }
   ],
   "source": [
    "m=torch.zeros((N_FEATURE))\n",
    "for i in tqdm(range(N_FEATURE)):\n",
    "    t1,i1=features_train_m[:,i].sort()\n",
    "    tdiff=features_new_train_m[i1,i]-t1\n",
    "    m[i]=tdiff.mean()\n",
    "\n",
    "    "
   ]
  },
  {
   "cell_type": "code",
   "execution_count": 31,
   "metadata": {},
   "outputs": [],
   "source": [
    "def check_acc_for_mean(model,dataloader,m):\n",
    "    _tqdm=tqdm(dataloader,total=len(dataloader))\n",
    "    model.eval()\n",
    "    if m is not None:\n",
    "        m=m.to(device)\n",
    "    with torch.no_grad():\n",
    "        total_num=0\n",
    "        right_num=0\n",
    "        \n",
    "        for img,label in _tqdm:\n",
    "            img=img.to(device)\n",
    "            label=label.to(device)\n",
    "            total_num=total_num+img.shape[0]\n",
    "            \n",
    "            f=get_feature(model,img)\n",
    "            \n",
    "            if m is not None:\n",
    "                f=f.permute((0,2,3,1))\n",
    "                f+=m\n",
    "                f=f.permute((0,3,1,2))\n",
    "            \n",
    "            predicted_outputs=feature_forward(model,f)\n",
    "            right_num         +=   torch.sum(torch.argmax(predicted_outputs,dim=-1)==label)\n",
    "            acc=right_num/total_num\n",
    "            _tqdm.set_description_str(f'test acc:{acc*100:.1f}%')\n",
    "            \n",
    "    return acc"
   ]
  },
  {
   "cell_type": "code",
   "execution_count": 32,
   "metadata": {},
   "outputs": [
    {
     "name": "stderr",
     "output_type": "stream",
     "text": [
      "test acc:84.7%: 100%|██████████| 781/781 [00:32<00:00, 23.99it/s]\n"
     ]
    },
    {
     "data": {
      "text/plain": [
       "tensor(0.8472, device='cuda:0')"
      ]
     },
     "execution_count": 32,
     "metadata": {},
     "output_type": "execute_result"
    }
   ],
   "source": [
    "\n",
    "check_acc_for_mean(model,test_dataloader,m)"
   ]
  },
  {
   "cell_type": "code",
   "execution_count": 33,
   "metadata": {},
   "outputs": [
    {
     "name": "stderr",
     "output_type": "stream",
     "text": [
      "test acc:84.8%: 100%|██████████| 781/781 [00:32<00:00, 23.97it/s]\n"
     ]
    },
    {
     "data": {
      "text/plain": [
       "tensor(0.8482, device='cuda:0')"
      ]
     },
     "execution_count": 33,
     "metadata": {},
     "output_type": "execute_result"
    }
   ],
   "source": [
    "check_acc_for_mean(model,test_dataloader,None)"
   ]
  },
  {
   "cell_type": "code",
   "execution_count": 28,
   "metadata": {},
   "outputs": [
    {
     "data": {
      "text/plain": [
       "(array([  1.,  14.,  38.,  79., 115., 109.,  92.,  40.,  16.,   8.]),\n",
       " array([-8.4195544e-06, -6.6957246e-06, -4.9718947e-06, -3.2480648e-06,\n",
       "        -1.5242349e-06,  1.9959498e-07,  1.9234249e-06,  3.6472547e-06,\n",
       "         5.3710846e-06,  7.0949145e-06,  8.8187444e-06], dtype=float32),\n",
       " <BarContainer object of 10 artists>)"
      ]
     },
     "execution_count": 28,
     "metadata": {},
     "output_type": "execute_result"
    },
    {
     "data": {
      "image/png": "[encoded data removed]",
      "text/plain": [
       "<Figure size 432x288 with 1 Axes>"
      ]
     },
     "metadata": {
      "needs_background": "light"
     },
     "output_type": "display_data"
    }
   ],
   "source": [
    "plt.hist(m.numpy())"
   ]
  },
  {
   "cell_type": "code",
   "execution_count": 35,
   "metadata": {},
   "outputs": [
    {
     "data": {
      "text/plain": [
       "torch.Size([49984, 512, 4, 4])"
      ]
     },
     "execution_count": 35,
     "metadata": {},
     "output_type": "execute_result"
    }
   ],
   "source": [
    "features_new_train.shape"
   ]
  },
  {
   "cell_type": "code",
   "execution_count": null,
   "metadata": {},
   "outputs": [],
   "source": []
  }
 ],
 "metadata": {
  "interpreter": {
   "hash": "e57acf98a4ab018a31e13afc3f01114e9098ef0705c2a79cf7762a35a8c630de"
  },
  "kernelspec": {
   "display_name": "Python 3.8.10 ('venv')",
   "language": "python",
   "name": "python3"
  },
  "language_info": {
   "codemirror_mode": {
    "name": "ipython",
    "version": 3
   },
   "file_extension": ".py",
   "mimetype": "text/x-python",
   "name": "python",
   "nbconvert_exporter": "python",
   "pygments_lexer": "ipython3",
   "version": "3.8.10"
  },
  "orig_nbformat": 4
 },
 "nbformat": 4,
 "nbformat_minor": 2
}
